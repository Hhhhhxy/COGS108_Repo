{
  "nbformat": 4,
  "nbformat_minor": 0,
  "metadata": {
    "kernelspec": {
      "display_name": "Python 3",
      "language": "python",
      "name": "python3"
    },
    "language_info": {
      "codemirror_mode": {
        "name": "ipython",
        "version": 3
      },
      "file_extension": ".py",
      "mimetype": "text/x-python",
      "name": "python",
      "nbconvert_exporter": "python",
      "pygments_lexer": "ipython3",
      "version": "3.7.9"
    },
    "colab": {
      "name": "DataCheckpoint_group049.ipynb",
      "provenance": [],
      "collapsed_sections": [],
      "include_colab_link": true
    }
  },
  "cells": [
    {
      "cell_type": "markdown",
      "metadata": {
        "id": "view-in-github",
        "colab_type": "text"
      },
      "source": [
        "<a href=\"https://colab.research.google.com/github/Hhhhhxy/COGS108_Repo/blob/main/DataCheckpoint_group049.ipynb\" target=\"_parent\"><img src=\"https://colab.research.google.com/assets/colab-badge.svg\" alt=\"Open In Colab\"/></a>"
      ]
    },
    {
      "cell_type": "markdown",
      "metadata": {
        "id": "vT2pP3fCnBkv"
      },
      "source": [
        "# COGS 108 - Data Checkpoint"
      ]
    },
    {
      "cell_type": "markdown",
      "metadata": {
        "id": "kVtw7qxanBkw"
      },
      "source": [
        "# Names\n",
        "\n",
        "- Cecilia Hong A15599332\n",
        "- Shirui Huang A15873275\n",
        "- Zifan Zhang A15928594\n",
        "- Liuyi Zhao A16174128\n",
        "- Xun Zhu A16575924"
      ]
    },
    {
      "cell_type": "markdown",
      "metadata": {
        "id": "Zl_TOnwMnBkw"
      },
      "source": [
        "<a id='research_question'></a>\n",
        "# Research Question"
      ]
    },
    {
      "cell_type": "markdown",
      "metadata": {
        "id": "t3QW2PCYnBkx"
      },
      "source": [
        "*Under the pandemic of COVID-19, is there a relationship between restaurants’ survival and their price per person, pandemic intensity, and regional income in California?*"
      ]
    },
    {
      "cell_type": "markdown",
      "metadata": {
        "id": "-Z_-8DqKnBkx"
      },
      "source": [
        "# Dataset(s)"
      ]
    },
    {
      "cell_type": "markdown",
      "metadata": {
        "id": "wH-1AJO_nBkx"
      },
      "source": [
        "\n",
        "\n",
        "<b>Yelp Dataset:</b>\n",
        "https://www.yelp.com/dataset/download<br>\n",
        "<b>Description:</b> This dataset contains information about restaurant name, location, service, food category and whether it is closed. <br>\n",
        "<b>Format:</b> JSON <br>\n",
        "<b>Observations:</b> 4789 <br>\n",
        "\n",
        "<hr>\n",
        "\n",
        "<b>Texas COVID-19 Case Count Data by County:</b>\n",
        "https://dshs.texas.gov/coronavirus/AdditionalData.aspx<br>\n",
        "<b>Description:</b> This dataset contains the number of daily COVID-19 Cases from 03/04/2020 to 04/26/2021. <br>\n",
        "<b>Format:</b> XLSX <br>\n",
        "<b>Observations:</b> 255<br>\n",
        "If you plan to use multiple datasets, add 1-2 sentences about how you plan to combine these datasets."
      ]
    },
    {
      "cell_type": "markdown",
      "metadata": {
        "id": "kD61l-kMnBkx"
      },
      "source": [
        "# Setup"
      ]
    },
    {
      "cell_type": "code",
      "metadata": {
        "id": "grdBEYPknBkx"
      },
      "source": [
        "import json\n",
        "import numpy as np \n",
        "import pandas as pd \n",
        "import requests\n",
        "import bs4\n",
        "from bs4 import BeautifulSoup"
      ],
      "execution_count": null,
      "outputs": []
    },
    {
      "cell_type": "code",
      "metadata": {
        "colab": {
          "base_uri": "https://localhost:8080/"
        },
        "id": "JRwosu1RK4aH",
        "outputId": "117a8769-6f77-4c1a-a00c-a49c9c4a36c7"
      },
      "source": [
        "from google.colab import drive\n",
        "drive.mount('/content/drive')"
      ],
      "execution_count": null,
      "outputs": [
        {
          "output_type": "stream",
          "text": [
            "Mounted at /content/drive\n"
          ],
          "name": "stdout"
        }
      ]
    },
    {
      "cell_type": "code",
      "metadata": {
        "colab": {
          "base_uri": "https://localhost:8080/",
          "height": 195
        },
        "id": "TepjxOuZDIWr",
        "outputId": "58ed6289-cb42-4a3f-ace9-9b31b9a478cc"
      },
      "source": [
        "covid_xlsx = pd.read_excel(\"/content/drive/MyDrive/Texas COVID-19 Case Count Data by County.xlsx\")\n",
        "#covid = covid_xlsx.loc[:,[\"County Name\", \"Cases 04-26-2021\"]]\n",
        "covid_xlsx.columns = covid_xlsx.iloc[1]\n",
        "covid = covid_xlsx.drop(index=[0,1,257,258,259,260,261])[[\"County Name\", \"Cases 04-26-2021\"]].reset_index().drop(columns='index')\n",
        "covid.columns = ['County',\"Cases\"]\n",
        "covid.head()"
      ],
      "execution_count": null,
      "outputs": [
        {
          "output_type": "execute_result",
          "data": {
            "text/html": [
              "<div>\n",
              "<style scoped>\n",
              "    .dataframe tbody tr th:only-of-type {\n",
              "        vertical-align: middle;\n",
              "    }\n",
              "\n",
              "    .dataframe tbody tr th {\n",
              "        vertical-align: top;\n",
              "    }\n",
              "\n",
              "    .dataframe thead th {\n",
              "        text-align: right;\n",
              "    }\n",
              "</style>\n",
              "<table border=\"1\" class=\"dataframe\">\n",
              "  <thead>\n",
              "    <tr style=\"text-align: right;\">\n",
              "      <th></th>\n",
              "      <th>County</th>\n",
              "      <th>Cases</th>\n",
              "    </tr>\n",
              "  </thead>\n",
              "  <tbody>\n",
              "    <tr>\n",
              "      <th>0</th>\n",
              "      <td>Anderson</td>\n",
              "      <td>4744</td>\n",
              "    </tr>\n",
              "    <tr>\n",
              "      <th>1</th>\n",
              "      <td>Andrews</td>\n",
              "      <td>1812</td>\n",
              "    </tr>\n",
              "    <tr>\n",
              "      <th>2</th>\n",
              "      <td>Angelina</td>\n",
              "      <td>4882</td>\n",
              "    </tr>\n",
              "    <tr>\n",
              "      <th>3</th>\n",
              "      <td>Aransas</td>\n",
              "      <td>949</td>\n",
              "    </tr>\n",
              "    <tr>\n",
              "      <th>4</th>\n",
              "      <td>Archer</td>\n",
              "      <td>685</td>\n",
              "    </tr>\n",
              "  </tbody>\n",
              "</table>\n",
              "</div>"
            ],
            "text/plain": [
              "     County Cases\n",
              "0  Anderson  4744\n",
              "1   Andrews  1812\n",
              "2  Angelina  4882\n",
              "3   Aransas   949\n",
              "4    Archer   685"
            ]
          },
          "metadata": {
            "tags": []
          },
          "execution_count": 49
        }
      ]
    },
    {
      "cell_type": "code",
      "metadata": {
        "id": "TsxwC-C9x6Ld",
        "colab": {
          "base_uri": "https://localhost:8080/",
          "height": 565
        },
        "outputId": "a5d397dc-a4a5-4615-bd03-b7872400b055"
      },
      "source": [
        "data = []\n",
        "for line in open(\"/content/drive/MyDrive/yelp_academic_business.json\", encoding=\"utf-8\"):\n",
        "    data.append(json.loads(line))\n",
        "df = pd.DataFrame(data)\n",
        "yelp_data = df[df['state'] == \"TX\"]\n",
        "yelp_data.head()"
      ],
      "execution_count": null,
      "outputs": [
        {
          "output_type": "execute_result",
          "data": {
            "text/html": [
              "<div>\n",
              "<style scoped>\n",
              "    .dataframe tbody tr th:only-of-type {\n",
              "        vertical-align: middle;\n",
              "    }\n",
              "\n",
              "    .dataframe tbody tr th {\n",
              "        vertical-align: top;\n",
              "    }\n",
              "\n",
              "    .dataframe thead th {\n",
              "        text-align: right;\n",
              "    }\n",
              "</style>\n",
              "<table border=\"1\" class=\"dataframe\">\n",
              "  <thead>\n",
              "    <tr style=\"text-align: right;\">\n",
              "      <th></th>\n",
              "      <th>business_id</th>\n",
              "      <th>name</th>\n",
              "      <th>address</th>\n",
              "      <th>city</th>\n",
              "      <th>state</th>\n",
              "      <th>postal_code</th>\n",
              "      <th>latitude</th>\n",
              "      <th>longitude</th>\n",
              "      <th>stars</th>\n",
              "      <th>review_count</th>\n",
              "      <th>is_open</th>\n",
              "      <th>attributes</th>\n",
              "      <th>categories</th>\n",
              "      <th>hours</th>\n",
              "    </tr>\n",
              "  </thead>\n",
              "  <tbody>\n",
              "    <tr>\n",
              "      <th>8</th>\n",
              "      <td>N3_Gs3DnX4k9SgpwJxdEfw</td>\n",
              "      <td>Lane Wells Jewelry Repair</td>\n",
              "      <td>7801 N Lamar Blvd, Ste A140</td>\n",
              "      <td>Austin</td>\n",
              "      <td>TX</td>\n",
              "      <td>78752</td>\n",
              "      <td>30.346169</td>\n",
              "      <td>-97.711458</td>\n",
              "      <td>5.0</td>\n",
              "      <td>30</td>\n",
              "      <td>1</td>\n",
              "      <td>{'RestaurantsPriceRange2': '1', 'ByAppointment...</td>\n",
              "      <td>Shopping, Jewelry Repair, Appraisal Services, ...</td>\n",
              "      <td>{'Monday': '12:15-17:0', 'Tuesday': '12:15-17:...</td>\n",
              "    </tr>\n",
              "    <tr>\n",
              "      <th>9</th>\n",
              "      <td>tXvdYGvlEceDljN8gt2_3Q</td>\n",
              "      <td>Capital City Barber Shop</td>\n",
              "      <td>615 W Slaughter Ln, Ste 113</td>\n",
              "      <td>Austin</td>\n",
              "      <td>TX</td>\n",
              "      <td>78748</td>\n",
              "      <td>30.172706</td>\n",
              "      <td>-97.799920</td>\n",
              "      <td>4.0</td>\n",
              "      <td>5</td>\n",
              "      <td>0</td>\n",
              "      <td>{'BusinessAcceptsCreditCards': 'False', 'Resta...</td>\n",
              "      <td>Barbers, Beauty &amp; Spas</td>\n",
              "      <td>{'Monday': '9:0-17:0', 'Tuesday': '9:0-19:0', ...</td>\n",
              "    </tr>\n",
              "    <tr>\n",
              "      <th>24</th>\n",
              "      <td>nTIhpR7MhsALPwg_Hh14EA</td>\n",
              "      <td>DoubleTree by Hilton Hotel Austin</td>\n",
              "      <td>6505 N Interstate 35</td>\n",
              "      <td>Austin</td>\n",
              "      <td>TX</td>\n",
              "      <td>78752</td>\n",
              "      <td>30.326377</td>\n",
              "      <td>-97.704543</td>\n",
              "      <td>3.0</td>\n",
              "      <td>139</td>\n",
              "      <td>1</td>\n",
              "      <td>{'WiFi': 'u'free'', 'RestaurantsPriceRange2': ...</td>\n",
              "      <td>Hotels, Hotels &amp; Travel, Event Planning &amp; Serv...</td>\n",
              "      <td>{'Monday': '0:0-0:0', 'Tuesday': '0:0-0:0', 'W...</td>\n",
              "    </tr>\n",
              "    <tr>\n",
              "      <th>27</th>\n",
              "      <td>8XyEpVdAO0o6iVkVxkWosQ</td>\n",
              "      <td>PS Property Management Company</td>\n",
              "      <td>2506 S Lamar Blvd, Ste 2</td>\n",
              "      <td>Austin</td>\n",
              "      <td>TX</td>\n",
              "      <td>78704</td>\n",
              "      <td>30.246465</td>\n",
              "      <td>-97.778738</td>\n",
              "      <td>4.5</td>\n",
              "      <td>9</td>\n",
              "      <td>1</td>\n",
              "      <td>{'BusinessAcceptsCreditCards': 'True'}</td>\n",
              "      <td>Home Services, Real Estate, Property Management</td>\n",
              "      <td>{'Monday': '9:0-17:0', 'Tuesday': '9:0-17:0', ...</td>\n",
              "    </tr>\n",
              "    <tr>\n",
              "      <th>37</th>\n",
              "      <td>NVfOn7TdnHbaGH97CVB_Qg</td>\n",
              "      <td>McKinley Chiropractic</td>\n",
              "      <td>5625 Eiger Rd, Ste 160</td>\n",
              "      <td>Austin</td>\n",
              "      <td>TX</td>\n",
              "      <td>78735</td>\n",
              "      <td>30.244902</td>\n",
              "      <td>-97.857409</td>\n",
              "      <td>5.0</td>\n",
              "      <td>5</td>\n",
              "      <td>1</td>\n",
              "      <td>{'BusinessAcceptsCreditCards': 'True', 'Accept...</td>\n",
              "      <td>Chiropractors, Health &amp; Medical</td>\n",
              "      <td>{'Monday': '9:0-17:45', 'Tuesday': '12:0-17:45...</td>\n",
              "    </tr>\n",
              "  </tbody>\n",
              "</table>\n",
              "</div>"
            ],
            "text/plain": [
              "               business_id  ...                                              hours\n",
              "8   N3_Gs3DnX4k9SgpwJxdEfw  ...  {'Monday': '12:15-17:0', 'Tuesday': '12:15-17:...\n",
              "9   tXvdYGvlEceDljN8gt2_3Q  ...  {'Monday': '9:0-17:0', 'Tuesday': '9:0-19:0', ...\n",
              "24  nTIhpR7MhsALPwg_Hh14EA  ...  {'Monday': '0:0-0:0', 'Tuesday': '0:0-0:0', 'W...\n",
              "27  8XyEpVdAO0o6iVkVxkWosQ  ...  {'Monday': '9:0-17:0', 'Tuesday': '9:0-17:0', ...\n",
              "37  NVfOn7TdnHbaGH97CVB_Qg  ...  {'Monday': '9:0-17:45', 'Tuesday': '12:0-17:45...\n",
              "\n",
              "[5 rows x 14 columns]"
            ]
          },
          "metadata": {
            "tags": []
          },
          "execution_count": 43
        }
      ]
    },
    {
      "cell_type": "code",
      "metadata": {
        "id": "7kBdWxhb6gAM"
      },
      "source": [
        "# specify webpage we want to scrape \n",
        "wiki = 'https://en.wikipedia.org/wiki/List_of_Texas_locations_by_per_capita_income'\n",
        "req = requests.get(wiki)\n",
        "soup = BeautifulSoup(req.content, 'html') # get contents of web page"
      ],
      "execution_count": null,
      "outputs": []
    },
    {
      "cell_type": "code",
      "metadata": {
        "id": "QMfQYrqo63Os"
      },
      "source": [
        "wikitables = soup.findAll(\"table\", 'wikitable') # get tables"
      ],
      "execution_count": null,
      "outputs": []
    },
    {
      "cell_type": "code",
      "metadata": {
        "id": "YLoMK6bVQHGb"
      },
      "source": [
        "income_cols = []\n",
        "for header in wikitables[0].find_all('tr'): # specify HTML tags\n",
        "    header_name = header.find_all('th') # tag containing column names\n",
        "    for head in header_name:\n",
        "        income_cols.append(head.get_text()) # get the text from between the tags"
      ],
      "execution_count": null,
      "outputs": []
    },
    {
      "cell_type": "code",
      "metadata": {
        "id": "9tztn0-_QZGz",
        "colab": {
          "base_uri": "https://localhost:8080/",
          "height": 195
        },
        "outputId": "153d283f-16c9-4798-d941-c8eefa5bd131"
      },
      "source": [
        "income = pd.DataFrame(columns=range(0,7), index = range(0,256)) # I know the size \n",
        "income.columns = [s.replace('\\n','') for s in income_cols] # get rid of new line characters in column names\n",
        "row_marker = -1\n",
        "for row in wikitables[0].find_all('tr'):\n",
        "    column_marker = 0\n",
        "    columns = row.find_all('td') # different tag than above for table contents\n",
        "    for column in columns:\n",
        "        income.iat[row_marker,column_marker] = column.get_text().replace('\\n','')\n",
        "        column_marker += 1\n",
        "    row_marker += 1\n",
        "income.head()"
      ],
      "execution_count": null,
      "outputs": [
        {
          "output_type": "execute_result",
          "data": {
            "text/html": [
              "<div>\n",
              "<style scoped>\n",
              "    .dataframe tbody tr th:only-of-type {\n",
              "        vertical-align: middle;\n",
              "    }\n",
              "\n",
              "    .dataframe tbody tr th {\n",
              "        vertical-align: top;\n",
              "    }\n",
              "\n",
              "    .dataframe thead th {\n",
              "        text-align: right;\n",
              "    }\n",
              "</style>\n",
              "<table border=\"1\" class=\"dataframe\">\n",
              "  <thead>\n",
              "    <tr style=\"text-align: right;\">\n",
              "      <th></th>\n",
              "      <th>Rank</th>\n",
              "      <th>County</th>\n",
              "      <th>Per capitaincome</th>\n",
              "      <th>Medianhouseholdincome</th>\n",
              "      <th>Medianfamilyincome</th>\n",
              "      <th>Population</th>\n",
              "      <th>Number ofhouseholds</th>\n",
              "    </tr>\n",
              "  </thead>\n",
              "  <tbody>\n",
              "    <tr>\n",
              "      <th>0</th>\n",
              "      <td>1</td>\n",
              "      <td>Collin</td>\n",
              "      <td>$42,220</td>\n",
              "      <td>$83,889</td>\n",
              "      <td>$84,306</td>\n",
              "      <td>782,341</td>\n",
              "      <td>181,970</td>\n",
              "    </tr>\n",
              "    <tr>\n",
              "      <th>1</th>\n",
              "      <td>2</td>\n",
              "      <td>Borden</td>\n",
              "      <td>$40,916</td>\n",
              "      <td>$58,409</td>\n",
              "      <td>$60,536</td>\n",
              "      <td>641</td>\n",
              "      <td>264</td>\n",
              "    </tr>\n",
              "    <tr>\n",
              "      <th>2</th>\n",
              "      <td>3</td>\n",
              "      <td>King</td>\n",
              "      <td>$39,511</td>\n",
              "      <td>$61,563</td>\n",
              "      <td>$80,500</td>\n",
              "      <td>286</td>\n",
              "      <td>113</td>\n",
              "    </tr>\n",
              "    <tr>\n",
              "      <th>3</th>\n",
              "      <td>4</td>\n",
              "      <td>Loving</td>\n",
              "      <td>$37,362</td>\n",
              "      <td>$80,504</td>\n",
              "      <td>$94,785</td>\n",
              "      <td>134</td>\n",
              "      <td>31</td>\n",
              "    </tr>\n",
              "    <tr>\n",
              "      <th>4</th>\n",
              "      <td>5</td>\n",
              "      <td>Kendall</td>\n",
              "      <td>$36,418</td>\n",
              "      <td>$66,655</td>\n",
              "      <td>$80,801</td>\n",
              "      <td>33,410</td>\n",
              "      <td>12,617</td>\n",
              "    </tr>\n",
              "  </tbody>\n",
              "</table>\n",
              "</div>"
            ],
            "text/plain": [
              "  Rank   County  ... Population Number ofhouseholds\n",
              "0    1   Collin  ...    782,341             181,970\n",
              "1    2   Borden  ...        641                 264\n",
              "2    3     King  ...        286                 113\n",
              "3    4   Loving  ...        134                  31\n",
              "4    5  Kendall  ...     33,410              12,617\n",
              "\n",
              "[5 rows x 7 columns]"
            ]
          },
          "metadata": {
            "tags": []
          },
          "execution_count": 45
        }
      ]
    },
    {
      "cell_type": "markdown",
      "metadata": {
        "id": "SLV75NNHnBky"
      },
      "source": [
        "# Data Cleaning"
      ]
    },
    {
      "cell_type": "markdown",
      "metadata": {
        "id": "gwEEnpdJnBky"
      },
      "source": [
        "Describe your data cleaning steps here."
      ]
    },
    {
      "cell_type": "code",
      "metadata": {
        "id": "TMiyYdIDnBky"
      },
      "source": [
        "## YOUR CODE HERE\n",
        "## FEEL FREE TO ADD MULTIPLE CELLS PER SECTION"
      ],
      "execution_count": null,
      "outputs": []
    }
  ]
}